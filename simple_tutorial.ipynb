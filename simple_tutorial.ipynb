{
 "cells": [
  {
   "cell_type": "code",
   "execution_count": 1,
   "id": "61b58e26",
   "metadata": {},
   "outputs": [],
   "source": [
    "import os\n",
    "os.environ['CUDA_VISIBLE_DEVICES'] = \"0\""
   ]
  },
  {
   "cell_type": "code",
   "execution_count": 2,
   "id": "a324bc7b",
   "metadata": {},
   "outputs": [
    {
     "name": "stdout",
     "output_type": "stream",
     "text": [
      "a looks like this:\n",
      "TensorNode(name=a, shape=torch.Size([1, 4, 4, 10]), labels=['r0', 'u1', 'p1', 'r1'])\n",
      "b looks like this:\n",
      "TensorNode(name=b, shape=torch.Size([10, 1, 4, 1]), labels=['r1', 'u2', 'p2', 'r2'])\n",
      "\n",
      "The contraction of a and b looks like this:\n",
      "TensorNode(name=<b-r1-a>, shape=torch.Size([4, 1, 4, 4, 1, 1]), labels=['p1', 'r2', 'p2', 'u1', 'r0', 'u2'])\n",
      "\n",
      "Squeezing a and b gives us:\n",
      "TensorNode(name=a, shape=torch.Size([4, 4, 10]), labels=['u1', 'p1', 'r1'])\n",
      "TensorNode(name=b, shape=torch.Size([10, 4]), labels=['r1', 'p2'])\n",
      "\n",
      "The contraction of a and b after squeezing looks like this:\n",
      "TensorNode(name=<b-r1-a>, shape=torch.Size([4, 4, 4]), labels=['p2', 'u1', 'p1'])\n"
     ]
    }
   ],
   "source": [
    "import torch\n",
    "from tensor.node import TensorNode\n",
    "\n",
    "# At a low level it is easy to define nodes and connect them.\n",
    "\n",
    "a_tensor = torch.randn((1, 4, 4, 10))\n",
    "\n",
    "a = TensorNode(a_tensor, dim_labels=('r0', 'u1', 'p1', 'r1'), name='a')\n",
    "b = TensorNode((10, 1, 4, 1), dim_labels=('r1', 'u2', 'p2', 'r2'), name='b')\n",
    "print(\"a looks like this:\")\n",
    "print(a)\n",
    "print(\"b looks like this:\")\n",
    "print(b)\n",
    "print()\n",
    "\n",
    "# We connect b with a\n",
    "b.connect(a, 'r1')\n",
    "\n",
    "# And they can now be contracted\n",
    "c = b.contract_with(a)\n",
    "print(\"The contraction of a and b looks like this:\")\n",
    "print(c)\n",
    "print()\n",
    "\n",
    "# If some dimensions are unitary these can be squeezed\n",
    "print(\"Squeezing a and b gives us:\")\n",
    "print(a.squeeze())\n",
    "print(b.squeeze())\n",
    "print()\n",
    "\n",
    "# Then if we contract again we just get the relevant non-unitary dimensions\n",
    "d = b.squeeze().contract_with(a.squeeze())\n",
    "print(\"The contraction of a and b after squeezing looks like this:\")\n",
    "print(d)"
   ]
  },
  {
   "cell_type": "code",
   "execution_count": 3,
   "id": "0a26f968",
   "metadata": {},
   "outputs": [
    {
     "name": "stdout",
     "output_type": "stream",
     "text": [
      "The result of contracting the tensor network with input X is:\n",
      "TensorNode(name=<<A1-p-x1>-r1-<<<A3-p-x3>-r2-A2>-p-x2>>, shape=torch.Size([1, 32]), labels=['o1', 's'])\n",
      "\n",
      "With values:\n",
      "tensor([[ 0.2584,  0.0174,  0.2231, -0.0284,  0.1558, -0.0350, -0.0469,  0.1758,\n",
      "          0.1439,  0.1962,  0.0897,  0.1150,  0.5099, -0.0462,  0.0498, -0.0448,\n",
      "          0.0603,  0.0444,  0.3883,  0.1197, -0.0068,  0.3930,  0.1274,  0.1191,\n",
      "          0.0280, -0.3200,  0.0582, -0.0361, -0.1270, -0.0379, -0.0327, -0.5584]])\n"
     ]
    }
   ],
   "source": [
    "from tensor.network import TensorNetwork\n",
    "\n",
    "# You can make a simple tensor train like this:\n",
    "p = 10 # Number of features (physical dimension)\n",
    "r = 6 # Bond dimension\n",
    "# In this case 1 is a placeholder for the sample dimension, which can be any size\n",
    "x1 = TensorNode((1, p), dim_labels=('s', 'p'), name='x1')\n",
    "x2 = TensorNode((1, p), dim_labels=('s', 'p'), name='x2')\n",
    "x3 = TensorNode((1, p), dim_labels=('s', 'p'), name='x3')\n",
    "\n",
    "A1 = TensorNode((1, p, r), dim_labels=('o1', 'p', 'r1'), name='A1', r='r1') # The 'o1' label is the output label, which is not connected to anything\n",
    "A2 = TensorNode((r, p, r), dim_labels=('r1', 'p', 'r2'), name='A2', l='r1', r='r2') # Left and right labels make computation more efficient\n",
    "A3 = TensorNode((r, p), dim_labels=('r2', 'p'), name='A3', l='r2')\n",
    "\n",
    "# Connect the tensors\n",
    "A1.connect(A2, 'r1')\n",
    "A2.connect(A3, 'r2')\n",
    "\n",
    "x1.connect(A1, 'p')\n",
    "x2.connect(A2, 'p')\n",
    "x3.connect(A3, 'p')\n",
    "\n",
    "# To then turn this into a TensorNetwork we just use the class for it\n",
    "TN = TensorNetwork(input_nodes=[x1,x2,x3], main_nodes=[A1,A2,A3], sample_dim='s')\n",
    "\n",
    "# You can then contract the full network on any tensor with shape (N, p) where N does not necessarily need to be the same as s\n",
    "N = 32\n",
    "X = torch.randn((N, p))\n",
    "result = TN.forward(X)\n",
    "print(\"The result of contracting the tensor network with input X is:\")\n",
    "print(result)\n",
    "print()\n",
    "print(\"With values:\")\n",
    "print(result.tensor)"
   ]
  },
  {
   "cell_type": "code",
   "execution_count": null,
   "id": "33839b0a",
   "metadata": {},
   "outputs": [
    {
     "data": {
      "application/vnd.jupyter.widget-view+json": {
       "model_id": "4b7d9818b21947b58d8817c4559f69c7",
       "version_major": 2,
       "version_minor": 0
      },
      "text/plain": [
       "  0%|          | 0/3 [00:00<?, ?it/s]"
      ]
     },
     "metadata": {},
     "output_type": "display_data"
    },
    {
     "data": {
      "application/vnd.jupyter.widget-view+json": {
       "model_id": "41f3ef06ca8946d9b3577a2855e88007",
       "version_major": 2,
       "version_minor": 0
      },
      "text/plain": [
       "Left to right pass (A1):   0%|          | 0/8 [00:00<?, ?it/s]"
      ]
     },
     "metadata": {},
     "output_type": "display_data"
    },
    {
     "name": "stdout",
     "output_type": "stream",
     "text": [
      "NS: 0, Left loss (A1): 143.1507167816162  (eps: 1e-12)  (eps_r: 0.0)\n"
     ]
    },
    {
     "data": {
      "application/vnd.jupyter.widget-view+json": {
       "model_id": "08d8a1f1f3d44f8ba7ed1152cf8ad64c",
       "version_major": 2,
       "version_minor": 0
      },
      "text/plain": [
       "Left to right pass (A2):   0%|          | 0/8 [00:00<?, ?it/s]"
      ]
     },
     "metadata": {},
     "output_type": "display_data"
    },
    {
     "name": "stdout",
     "output_type": "stream",
     "text": [
      "NS: 0, Left loss (A2): 57.84726285934448  (eps: 1e-12)  (eps_r: 0.0)\n"
     ]
    },
    {
     "data": {
      "application/vnd.jupyter.widget-view+json": {
       "model_id": "c8778e4784cb4a298325bd72570a8e1e",
       "version_major": 2,
       "version_minor": 0
      },
      "text/plain": [
       "Left to right pass (A3):   0%|          | 0/8 [00:00<?, ?it/s]"
      ]
     },
     "metadata": {},
     "output_type": "display_data"
    },
    {
     "name": "stdout",
     "output_type": "stream",
     "text": [
      "NS: 0, Left loss (A3): 8.578864991664886  (eps: 1e-12)  (eps_r: 0.0)\n"
     ]
    },
    {
     "data": {
      "application/vnd.jupyter.widget-view+json": {
       "model_id": "f758b5c37b0d461c840d25aa02ca5646",
       "version_major": 2,
       "version_minor": 0
      },
      "text/plain": [
       "Right to left pass (A2):   0%|          | 0/8 [00:00<?, ?it/s]"
      ]
     },
     "metadata": {},
     "output_type": "display_data"
    },
    {
     "name": "stdout",
     "output_type": "stream",
     "text": [
      "NS: 1, Right loss (A2): 8.572382152080536  (eps: 1e-12)  (eps_r: 0.0)\n"
     ]
    },
    {
     "data": {
      "application/vnd.jupyter.widget-view+json": {
       "model_id": "0a0fdef4969b491a946435bd2b61d1a6",
       "version_major": 2,
       "version_minor": 0
      },
      "text/plain": [
       "Right to left pass (A1):   0%|          | 0/8 [00:00<?, ?it/s]"
      ]
     },
     "metadata": {},
     "output_type": "display_data"
    },
    {
     "name": "stdout",
     "output_type": "stream",
     "text": [
      "NS: 1, Right loss (A1): 8.565950512886047  (eps: 1e-12)  (eps_r: 0.0)\n"
     ]
    },
    {
     "data": {
      "application/vnd.jupyter.widget-view+json": {
       "model_id": "84b06872ae6b412db789e4cfc9620f30",
       "version_major": 2,
       "version_minor": 0
      },
      "text/plain": [
       "Left to right pass (A2):   0%|          | 0/8 [00:00<?, ?it/s]"
      ]
     },
     "metadata": {},
     "output_type": "display_data"
    },
    {
     "name": "stdout",
     "output_type": "stream",
     "text": [
      "NS: 2, Left loss (A2): 8.548484206199646  (eps: 1e-12)  (eps_r: 0.0)\n"
     ]
    },
    {
     "data": {
      "application/vnd.jupyter.widget-view+json": {
       "model_id": "7979ac180c964386bdc6e28e239c9cea",
       "version_major": 2,
       "version_minor": 0
      },
      "text/plain": [
       "Left to right pass (A3):   0%|          | 0/8 [00:00<?, ?it/s]"
      ]
     },
     "metadata": {},
     "output_type": "display_data"
    },
    {
     "name": "stdout",
     "output_type": "stream",
     "text": [
      "NS: 2, Left loss (A3): 8.531060516834259  (eps: 1e-12)  (eps_r: 0.0)\n"
     ]
    },
    {
     "data": {
      "application/vnd.jupyter.widget-view+json": {
       "model_id": "2dbee99e8c574674aa3e8954363c9dff",
       "version_major": 2,
       "version_minor": 0
      },
      "text/plain": [
       "Right to left pass (A2):   0%|          | 0/8 [00:00<?, ?it/s]"
      ]
     },
     "metadata": {},
     "output_type": "display_data"
    },
    {
     "name": "stdout",
     "output_type": "stream",
     "text": [
      "NS: 3, Right loss (A2): 8.52535492181778  (eps: 1e-12)  (eps_r: 0.0)\n"
     ]
    },
    {
     "data": {
      "application/vnd.jupyter.widget-view+json": {
       "model_id": "9381bc89657f42d587f5b144e0c16a71",
       "version_major": 2,
       "version_minor": 0
      },
      "text/plain": [
       "Right to left pass (A1):   0%|          | 0/8 [00:00<?, ?it/s]"
      ]
     },
     "metadata": {},
     "output_type": "display_data"
    },
    {
     "name": "stdout",
     "output_type": "stream",
     "text": [
      "NS: 3, Right loss (A1): 8.519686102867126  (eps: 1e-12)  (eps_r: 0.0)\n"
     ]
    },
    {
     "data": {
      "application/vnd.jupyter.widget-view+json": {
       "model_id": "3717066cdd3b40519043671dfd30ab55",
       "version_major": 2,
       "version_minor": 0
      },
      "text/plain": [
       "Left to right pass (A2):   0%|          | 0/8 [00:00<?, ?it/s]"
      ]
     },
     "metadata": {},
     "output_type": "display_data"
    },
    {
     "name": "stdout",
     "output_type": "stream",
     "text": [
      "NS: 4, Left loss (A2): 8.503355205059052  (eps: 1e-12)  (eps_r: 0.0)\n"
     ]
    },
    {
     "data": {
      "application/vnd.jupyter.widget-view+json": {
       "model_id": "d13d43ec6d574d9bbd8016d04c76278e",
       "version_major": 2,
       "version_minor": 0
      },
      "text/plain": [
       "Left to right pass (A3):   0%|          | 0/8 [00:00<?, ?it/s]"
      ]
     },
     "metadata": {},
     "output_type": "display_data"
    },
    {
     "name": "stdout",
     "output_type": "stream",
     "text": [
      "NS: 4, Left loss (A3): 8.487060964107513  (eps: 1e-12)  (eps_r: 0.0)\n"
     ]
    },
    {
     "data": {
      "application/vnd.jupyter.widget-view+json": {
       "model_id": "43e84ce3127145ecaac852d2b542e8c2",
       "version_major": 2,
       "version_minor": 0
      },
      "text/plain": [
       "Right to left pass (A2):   0%|          | 0/8 [00:00<?, ?it/s]"
      ]
     },
     "metadata": {},
     "output_type": "display_data"
    },
    {
     "name": "stdout",
     "output_type": "stream",
     "text": [
      "NS: 5, Right loss (A2): 8.481568813323975  (eps: 1e-12)  (eps_r: 0.0)\n"
     ]
    },
    {
     "data": {
      "application/vnd.jupyter.widget-view+json": {
       "model_id": "adeae8b4a0164b60817285f43e7cfaa3",
       "version_major": 2,
       "version_minor": 0
      },
      "text/plain": [
       "Right to left pass (A1):   0%|          | 0/8 [00:00<?, ?it/s]"
      ]
     },
     "metadata": {},
     "output_type": "display_data"
    },
    {
     "name": "stdout",
     "output_type": "stream",
     "text": [
      "NS: 5, Right loss (A1): 8.476108610630035  (eps: 1e-12)  (eps_r: 0.0)\n"
     ]
    },
    {
     "data": {
      "text/plain": [
       "True"
      ]
     },
     "execution_count": 4,
     "metadata": {},
     "output_type": "execute_result"
    }
   ],
   "source": [
    "from tensor.bregman import SquareBregFunction\n",
    "\n",
    "# By default the main nodes are trained, but you can also specify which nodes to train\n",
    "TN = TensorNetwork(input_nodes=[x1, x2, x3], main_nodes=[A1, A2, A3], train_nodes=[A1, A2, A3], output_labels=('s', 'o1'), sample_dim='s')\n",
    "\n",
    "# To train we need to use a loss function, here we will use the squared loss\n",
    "loss_fn = SquareBregFunction()\n",
    "\n",
    "# Define X and y\n",
    "N = 1024 # Number of samples\n",
    "\n",
    "X = torch.randn((N, p-1))\n",
    "y = (X**3).sum(-1, keepdims=True)  # Target values\n",
    "\n",
    "X = torch.cat((X, torch.ones((N, 1))), dim=-1)  # Add a bias term\n",
    "\n",
    "# We can then train the network using the loss function\n",
    "TN.accumulating_swipe(X, y, loss_fn, batch_size=128, num_swipes=3, method='exact', verbose=2)"
   ]
  },
  {
   "cell_type": "code",
   "execution_count": 5,
   "id": "a7186a51",
   "metadata": {},
   "outputs": [
    {
     "data": {
      "application/vnd.jupyter.widget-view+json": {
       "model_id": "c0cad6af9fa44ee5b7f513c753c0a125",
       "version_major": 2,
       "version_minor": 0
      },
      "text/plain": [
       "  0%|          | 0/2 [00:00<?, ?it/s]"
      ]
     },
     "metadata": {},
     "output_type": "display_data"
    },
    {
     "data": {
      "application/vnd.jupyter.widget-view+json": {
       "model_id": "6711df9ea1c248ed888d1a58d44741a9",
       "version_major": 2,
       "version_minor": 0
      },
      "text/plain": [
       "Left to right pass (A1):   0%|          | 0/1 [00:00<?, ?it/s]"
      ]
     },
     "metadata": {},
     "output_type": "display_data"
    },
    {
     "name": "stdout",
     "output_type": "stream",
     "text": [
      "NS: 0, Left loss (A1): 142.64816284179688  (eps: 1e-12)  (eps_r: 0.0)\n"
     ]
    },
    {
     "data": {
      "application/vnd.jupyter.widget-view+json": {
       "model_id": "c8565e6b18514482b53435aefc059d0f",
       "version_major": 2,
       "version_minor": 0
      },
      "text/plain": [
       "Left to right pass (A2):   0%|          | 0/1 [00:00<?, ?it/s]"
      ]
     },
     "metadata": {},
     "output_type": "display_data"
    },
    {
     "name": "stdout",
     "output_type": "stream",
     "text": [
      "NS: 0, Left loss (A2): 37.362281799316406  (eps: 1e-12)  (eps_r: 0.0)\n"
     ]
    },
    {
     "data": {
      "application/vnd.jupyter.widget-view+json": {
       "model_id": "df2ec26117fa4a68998989e6c7fdaad4",
       "version_major": 2,
       "version_minor": 0
      },
      "text/plain": [
       "Left to right pass (A3):   0%|          | 0/1 [00:00<?, ?it/s]"
      ]
     },
     "metadata": {},
     "output_type": "display_data"
    },
    {
     "name": "stdout",
     "output_type": "stream",
     "text": [
      "NS: 0, Left loss (A3): 1.3799099178868346e-06  (eps: 1e-12)  (eps_r: 0.0)\n"
     ]
    },
    {
     "data": {
      "application/vnd.jupyter.widget-view+json": {
       "model_id": "4879811fd44b418d88ee4821c96667d6",
       "version_major": 2,
       "version_minor": 0
      },
      "text/plain": [
       "Right to left pass (A2):   0%|          | 0/1 [00:00<?, ?it/s]"
      ]
     },
     "metadata": {},
     "output_type": "display_data"
    },
    {
     "name": "stdout",
     "output_type": "stream",
     "text": [
      "NS: 1, Right loss (A2): 1.3467490589391673e-07  (eps: 1e-12)  (eps_r: 0.0)\n"
     ]
    },
    {
     "data": {
      "application/vnd.jupyter.widget-view+json": {
       "model_id": "e5b9e00a562e4745adb9e224cc68a976",
       "version_major": 2,
       "version_minor": 0
      },
      "text/plain": [
       "Right to left pass (A1):   0%|          | 0/1 [00:00<?, ?it/s]"
      ]
     },
     "metadata": {},
     "output_type": "display_data"
    },
    {
     "name": "stdout",
     "output_type": "stream",
     "text": [
      "NS: 1, Right loss (A1): -2.3721628394923755e-07  (eps: 1e-12)  (eps_r: 0.0)\n"
     ]
    },
    {
     "data": {
      "application/vnd.jupyter.widget-view+json": {
       "model_id": "ed9319a5306c40e792941cf788a648db",
       "version_major": 2,
       "version_minor": 0
      },
      "text/plain": [
       "Left to right pass (A2):   0%|          | 0/1 [00:00<?, ?it/s]"
      ]
     },
     "metadata": {},
     "output_type": "display_data"
    },
    {
     "name": "stdout",
     "output_type": "stream",
     "text": [
      "NS: 2, Left loss (A2): -6.023663559062697e-07  (eps: 1e-12)  (eps_r: 0.0)\n"
     ]
    },
    {
     "data": {
      "application/vnd.jupyter.widget-view+json": {
       "model_id": "609cdc3a21484944933231deaa71a6bd",
       "version_major": 2,
       "version_minor": 0
      },
      "text/plain": [
       "Left to right pass (A3):   0%|          | 0/1 [00:00<?, ?it/s]"
      ]
     },
     "metadata": {},
     "output_type": "display_data"
    },
    {
     "name": "stdout",
     "output_type": "stream",
     "text": [
      "NS: 2, Left loss (A3): -4.996932148060296e-07  (eps: 1e-12)  (eps_r: 0.0)\n"
     ]
    },
    {
     "data": {
      "application/vnd.jupyter.widget-view+json": {
       "model_id": "694d2f925e5f4d00a564e1a591db0478",
       "version_major": 2,
       "version_minor": 0
      },
      "text/plain": [
       "Right to left pass (A2):   0%|          | 0/1 [00:00<?, ?it/s]"
      ]
     },
     "metadata": {},
     "output_type": "display_data"
    },
    {
     "name": "stdout",
     "output_type": "stream",
     "text": [
      "NS: 3, Right loss (A2): 1.3276509491788602e-07  (eps: 1e-12)  (eps_r: 0.0)\n"
     ]
    },
    {
     "data": {
      "application/vnd.jupyter.widget-view+json": {
       "model_id": "46bdaf1e8da04928836d6edf8d0536da",
       "version_major": 2,
       "version_minor": 0
      },
      "text/plain": [
       "Right to left pass (A1):   0%|          | 0/1 [00:00<?, ?it/s]"
      ]
     },
     "metadata": {},
     "output_type": "display_data"
    },
    {
     "name": "stdout",
     "output_type": "stream",
     "text": [
      "NS: 3, Right loss (A1): -4.5693741412833333e-07  (eps: 1e-12)  (eps_r: 0.0)\n"
     ]
    },
    {
     "data": {
      "text/plain": [
       "True"
      ]
     },
     "execution_count": 5,
     "metadata": {},
     "output_type": "execute_result"
    }
   ],
   "source": [
    "# To speed up the design of the network, we define many different layers\n",
    "from tensor.layers import TensorTrainLayer\n",
    "\n",
    "# This is the default Tensor Train Layer, which just specifies the number of blocks and the bond dimension\n",
    "layer = TensorTrainLayer(num_carriages=3, bond_dim=12, input_features=p, output_shape=1)\n",
    "\n",
    "# We can then fit the network of this layer\n",
    "layer.tensor_network.accumulating_swipe(X, y, loss_fn, batch_size=-1, num_swipes=2, method='exact', verbose=2) # eps defines the ridge regularization parameter"
   ]
  },
  {
   "cell_type": "code",
   "execution_count": 6,
   "id": "e7a57d12",
   "metadata": {},
   "outputs": [
    {
     "data": {
      "application/vnd.jupyter.widget-view+json": {
       "model_id": "27cefbf94cfc4f9ca993db424f2070af",
       "version_major": 2,
       "version_minor": 0
      },
      "text/plain": [
       "  0%|          | 0/1 [00:00<?, ?it/s]"
      ]
     },
     "metadata": {},
     "output_type": "display_data"
    },
    {
     "data": {
      "application/vnd.jupyter.widget-view+json": {
       "model_id": "5f063f397c0b4219898353753dfbc382",
       "version_major": 2,
       "version_minor": 0
      },
      "text/plain": [
       "Left to right pass (A1):   0%|          | 0/1 [00:00<?, ?it/s]"
      ]
     },
     "metadata": {},
     "output_type": "display_data"
    },
    {
     "name": "stdout",
     "output_type": "stream",
     "text": [
      "NS: 0, Left loss (A1): 1.2262459993362427  (eps: 1.0)  (eps_r: 0.0)\n",
      "Test Acc: 0.6666666666666666\n"
     ]
    },
    {
     "data": {
      "application/vnd.jupyter.widget-view+json": {
       "model_id": "9009075a43d04dfb8460eafda9865756",
       "version_major": 2,
       "version_minor": 0
      },
      "text/plain": [
       "Left to right pass (A2):   0%|          | 0/1 [00:00<?, ?it/s]"
      ]
     },
     "metadata": {},
     "output_type": "display_data"
    },
    {
     "name": "stdout",
     "output_type": "stream",
     "text": [
      "NS: 0, Left loss (A2): 0.9178369641304016  (eps: 1.0)  (eps_r: 0.0)\n",
      "Test Acc: 0.9393939393939394\n"
     ]
    },
    {
     "data": {
      "application/vnd.jupyter.widget-view+json": {
       "model_id": "65fdaa12bdee4a8bae919de212d9a8cf",
       "version_major": 2,
       "version_minor": 0
      },
      "text/plain": [
       "Left to right pass (A3):   0%|          | 0/1 [00:00<?, ?it/s]"
      ]
     },
     "metadata": {},
     "output_type": "display_data"
    },
    {
     "name": "stdout",
     "output_type": "stream",
     "text": [
      "NS: 0, Left loss (A3): 0.5418416261672974  (eps: 1.0)  (eps_r: 0.0)\n",
      "Test Acc: 0.9393939393939394\n"
     ]
    },
    {
     "data": {
      "application/vnd.jupyter.widget-view+json": {
       "model_id": "296e10f25adf46cab51ee3ad08c4d192",
       "version_major": 2,
       "version_minor": 0
      },
      "text/plain": [
       "Left to right pass (A4):   0%|          | 0/1 [00:00<?, ?it/s]"
      ]
     },
     "metadata": {},
     "output_type": "display_data"
    },
    {
     "name": "stdout",
     "output_type": "stream",
     "text": [
      "NS: 0, Left loss (A4): 0.3250484764575958  (eps: 1.0)  (eps_r: 0.0)\n",
      "Test Acc: 0.9696969696969697\n"
     ]
    },
    {
     "data": {
      "application/vnd.jupyter.widget-view+json": {
       "model_id": "9d7dd0b816aa48dbbc750f141f6e93ea",
       "version_major": 2,
       "version_minor": 0
      },
      "text/plain": [
       "Left to right pass (A5):   0%|          | 0/1 [00:00<?, ?it/s]"
      ]
     },
     "metadata": {},
     "output_type": "display_data"
    },
    {
     "name": "stdout",
     "output_type": "stream",
     "text": [
      "NS: 0, Left loss (A5): 0.19925251603126526  (eps: 1.0)  (eps_r: 0.0)\n",
      "Test Acc: 1.0\n"
     ]
    },
    {
     "data": {
      "application/vnd.jupyter.widget-view+json": {
       "model_id": "c2b74c2789694310ac57a56c78a622f8",
       "version_major": 2,
       "version_minor": 0
      },
      "text/plain": [
       "Left to right pass (A6):   0%|          | 0/1 [00:00<?, ?it/s]"
      ]
     },
     "metadata": {},
     "output_type": "display_data"
    },
    {
     "name": "stdout",
     "output_type": "stream",
     "text": [
      "NS: 0, Left loss (A6): 0.13349130749702454  (eps: 1.0)  (eps_r: 0.0)\n",
      "Test Acc: 1.0\n"
     ]
    },
    {
     "data": {
      "application/vnd.jupyter.widget-view+json": {
       "model_id": "ee61905688154850aee2b5518c8050a7",
       "version_major": 2,
       "version_minor": 0
      },
      "text/plain": [
       "Left to right pass (A7):   0%|          | 0/1 [00:00<?, ?it/s]"
      ]
     },
     "metadata": {},
     "output_type": "display_data"
    },
    {
     "name": "stdout",
     "output_type": "stream",
     "text": [
      "NS: 0, Left loss (A7): 0.10782388597726822  (eps: 1.0)  (eps_r: 0.0)\n",
      "Test Acc: 0.9326599326599326\n"
     ]
    },
    {
     "data": {
      "application/vnd.jupyter.widget-view+json": {
       "model_id": "255379cfdd574a6ea9f93986b1d8d094",
       "version_major": 2,
       "version_minor": 0
      },
      "text/plain": [
       "Left to right pass (A8):   0%|          | 0/1 [00:00<?, ?it/s]"
      ]
     },
     "metadata": {},
     "output_type": "display_data"
    },
    {
     "name": "stdout",
     "output_type": "stream",
     "text": [
      "NS: 0, Left loss (A8): 0.18231026828289032  (eps: 1.0)  (eps_r: 0.0)\n",
      "Test Acc: 0.9629629629629629\n"
     ]
    },
    {
     "data": {
      "application/vnd.jupyter.widget-view+json": {
       "model_id": "7b34af7e12044a59b3a215ac2979df03",
       "version_major": 2,
       "version_minor": 0
      },
      "text/plain": [
       "Right to left pass (A7):   0%|          | 0/1 [00:00<?, ?it/s]"
      ]
     },
     "metadata": {},
     "output_type": "display_data"
    },
    {
     "name": "stdout",
     "output_type": "stream",
     "text": [
      "NS: 1, Right loss (A7): 0.8034853935241699  (eps: 1.0)  (eps_r: 0.0)\n",
      "Test Acc: 0.9629629629629629\n"
     ]
    },
    {
     "data": {
      "application/vnd.jupyter.widget-view+json": {
       "model_id": "aa7809c71e5c4b568d4b5fefa76b6e69",
       "version_major": 2,
       "version_minor": 0
      },
      "text/plain": [
       "Right to left pass (A6):   0%|          | 0/1 [00:00<?, ?it/s]"
      ]
     },
     "metadata": {},
     "output_type": "display_data"
    },
    {
     "name": "stdout",
     "output_type": "stream",
     "text": [
      "NS: 1, Right loss (A6): 0.5904362797737122  (eps: 1.0)  (eps_r: 0.0)\n",
      "Test Acc: 0.872053872053872\n"
     ]
    },
    {
     "data": {
      "application/vnd.jupyter.widget-view+json": {
       "model_id": "25c9a1f554284f95a499af8c8b64b876",
       "version_major": 2,
       "version_minor": 0
      },
      "text/plain": [
       "Right to left pass (A5):   0%|          | 0/1 [00:00<?, ?it/s]"
      ]
     },
     "metadata": {},
     "output_type": "display_data"
    },
    {
     "name": "stdout",
     "output_type": "stream",
     "text": [
      "NS: 1, Right loss (A5): 0.3605460524559021  (eps: 1.0)  (eps_r: 0.0)\n",
      "Test Acc: 0.872053872053872\n"
     ]
    },
    {
     "data": {
      "application/vnd.jupyter.widget-view+json": {
       "model_id": "2a2b01af6bb54ff1875a564f12e52987",
       "version_major": 2,
       "version_minor": 0
      },
      "text/plain": [
       "Right to left pass (A4):   0%|          | 0/1 [00:00<?, ?it/s]"
      ]
     },
     "metadata": {},
     "output_type": "display_data"
    },
    {
     "name": "stdout",
     "output_type": "stream",
     "text": [
      "NS: 1, Right loss (A4): 0.221048966050148  (eps: 1.0)  (eps_r: 0.0)\n",
      "Test Acc: 0.9090909090909092\n"
     ]
    },
    {
     "data": {
      "application/vnd.jupyter.widget-view+json": {
       "model_id": "095c5c090280411d9c85fe44ac8971d1",
       "version_major": 2,
       "version_minor": 0
      },
      "text/plain": [
       "Right to left pass (A3):   0%|          | 0/1 [00:00<?, ?it/s]"
      ]
     },
     "metadata": {},
     "output_type": "display_data"
    },
    {
     "name": "stdout",
     "output_type": "stream",
     "text": [
      "NS: 1, Right loss (A3): 0.143207386136055  (eps: 1.0)  (eps_r: 0.0)\n",
      "Test Acc: 1.0\n"
     ]
    },
    {
     "data": {
      "application/vnd.jupyter.widget-view+json": {
       "model_id": "b14ff73b4e9e487694c778278b695b0e",
       "version_major": 2,
       "version_minor": 0
      },
      "text/plain": [
       "Right to left pass (A2):   0%|          | 0/1 [00:00<?, ?it/s]"
      ]
     },
     "metadata": {},
     "output_type": "display_data"
    },
    {
     "name": "stdout",
     "output_type": "stream",
     "text": [
      "NS: 1, Right loss (A2): 0.10436733067035675  (eps: 1.0)  (eps_r: 0.0)\n",
      "Test Acc: 1.0\n"
     ]
    },
    {
     "data": {
      "application/vnd.jupyter.widget-view+json": {
       "model_id": "ba058312967d47c48f591b6750ac60f5",
       "version_major": 2,
       "version_minor": 0
      },
      "text/plain": [
       "Right to left pass (A1):   0%|          | 0/1 [00:00<?, ?it/s]"
      ]
     },
     "metadata": {},
     "output_type": "display_data"
    },
    {
     "name": "stdout",
     "output_type": "stream",
     "text": [
      "NS: 1, Right loss (A1): 0.11280881613492966  (eps: 1.0)  (eps_r: 0.0)\n",
      "Test Acc: 0.9090909090909092\n"
     ]
    },
    {
     "data": {
      "text/plain": [
       "True"
      ]
     },
     "execution_count": 6,
     "metadata": {},
     "output_type": "execute_result"
    }
   ],
   "source": [
    "from sklearn.datasets import load_iris\n",
    "from sklearn.model_selection import train_test_split\n",
    "from sklearn.metrics import balanced_accuracy_score\n",
    "from tensor.bregman import XEAutogradBregman\n",
    "from torch.nn import functional as F\n",
    "# Load the iris dataset\n",
    "iris = load_iris()\n",
    "X_iris = iris.data\n",
    "y_iris = iris.target\n",
    "\n",
    "# Convert to PyTorch tensors\n",
    "X_iris = torch.tensor(X_iris, dtype=torch.float32, device='cuda')\n",
    "y_iris = torch.tensor(y_iris, dtype=torch.long, device='cuda')\n",
    "\n",
    "# One-hot encode labels\n",
    "y_iris = F.one_hot(y_iris, num_classes=3).to(dtype=torch.float64)\n",
    "\n",
    "# Add a bias term\n",
    "X_iris = torch.cat((X_iris, torch.ones((X_iris.shape[0], 1), device='cuda')), dim=-1)\n",
    "\n",
    "# Split the dataset into train and test sets\n",
    "X_train, X_test, y_train, y_test = train_test_split(X_iris, y_iris, test_size=0.2, random_state=42)\n",
    "\n",
    "# Create a Tensor Train Layer for the iris dataset\n",
    "layer_iris = TensorTrainLayer(num_carriages=8, bond_dim=48, input_features=X_iris.shape[1], output_shape=(y_iris.shape[1]-1,)).cuda()\n",
    "\n",
    "# Here we use the cross-entropy loss function\n",
    "loss_fn_iris = XEAutogradBregman()\n",
    "\n",
    "# Define convergence criterion with test accuracy calculation\n",
    "def convergence_criterion():\n",
    "    y_pred_test = layer_iris(X_test)\n",
    "    y_pred_test = torch.cat((y_pred_test, torch.zeros_like(y_pred_test[:, :1])), dim=1)\n",
    "    accuracy_test = balanced_accuracy_score(y_test.argmax(dim=-1).cpu().numpy(), y_pred_test.argmax(dim=-1).cpu().numpy())\n",
    "    print('Test Acc:', accuracy_test)\n",
    "    return False\n",
    "\n",
    "# Train the Tensor Train Layer on the iris dataset\n",
    "layer_iris.tensor_network.accumulating_swipe(X_train, y_train, loss_fn_iris, batch_size=-1, num_swipes=1, method='ridge_cholesky', eps=1.0, verbose=2, convergence_criterion=convergence_criterion)"
   ]
  }
 ],
 "metadata": {
  "kernelspec": {
   "display_name": "s183995",
   "language": "python",
   "name": "python3"
  },
  "language_info": {
   "codemirror_mode": {
    "name": "ipython",
    "version": 3
   },
   "file_extension": ".py",
   "mimetype": "text/x-python",
   "name": "python",
   "nbconvert_exporter": "python",
   "pygments_lexer": "ipython3",
   "version": "3.12.5"
  }
 },
 "nbformat": 4,
 "nbformat_minor": 5
}
