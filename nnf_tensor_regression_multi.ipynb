{
 "cells": [
  {
   "cell_type": "code",
   "execution_count": null,
   "id": "023ac9a7-136b-4354-9eda-899e2e12e73c",
   "metadata": {},
   "outputs": [],
   "source": [
    "# %%\n",
    "import os\n",
    "os.environ['CUDA_VISIBLE_DEVICES'] = '1'\n",
    "import torch\n",
    "from numpy import genfromtxt\n",
    "torch.set_default_dtype(torch.float64)"
   ]
  },
  {
   "cell_type": "code",
   "execution_count": null,
   "id": "737aa6bd-3f7b-4b30-b192-224b2909e438",
   "metadata": {},
   "outputs": [],
   "source": [
    "from torch.nn import functional as F\n",
    "\n",
    "# train\n",
    "x = genfromtxt('data/mdata_train.txt', delimiter=',')\n",
    "X_train = x.T\n",
    "y_train = genfromtxt('data/mdata_train_l.txt',delimiter=',')\n",
    "\n",
    "x_test = genfromtxt('data/mdata_test.txt', delimiter=',')\n",
    "X_test = x_test.T\n",
    "y_test = genfromtxt('data/mdata_test_l.txt',delimiter=',')\n",
    "\n",
    "# Convert to torch\n",
    "X_train = torch.tensor(X_train, dtype=torch.float64)\n",
    "y_train = torch.tensor(y_train == 1, dtype=torch.long)\n",
    "X_test = torch.tensor(X_test, dtype=torch.float64)\n",
    "y_test = torch.tensor(y_test == 1, dtype=torch.long)\n",
    "\n",
    "y_train = F.one_hot(y_train, num_classes=2).to(dtype=torch.float64)\n",
    "y_test = F.one_hot(y_test, num_classes=2).to(dtype=torch.float64)\n",
    "\n",
    "# Move data to GPU\n",
    "X_train, y_train = X_train.cuda(), y_train.cuda()\n",
    "X_test, y_test = X_test.cuda(), y_test.cuda()\n",
    "\n",
    "# Prepare train input\n",
    "xinp_train = torch.cat([torch.ones(X_train.shape[0], 1, dtype=X_train.dtype, device=X_train.device), X_train], dim=-1)\n",
    "xinp_test = torch.cat([torch.ones(X_test.shape[0], 1, dtype=X_test.dtype, device=X_test.device), X_test], dim=-1)"
   ]
  },
  {
   "cell_type": "code",
   "execution_count": null,
   "id": "6e1543ec-3512-4dee-a1a2-d52f65b4f9ea",
   "metadata": {},
   "outputs": [],
   "source": [
    "from tensor.layers import TensorTrainLayer\n",
    "from tensor.bregman import KLDivBregman, XEAutogradBregman\n",
    "from sklearn.metrics import balanced_accuracy_score\n",
    "\n",
    "N = 2\n",
    "r = 5\n",
    "p = X_train.shape[1]+1\n",
    "C = y_train.shape[1]-1\n",
    "\n",
    "def convergence_criterion(y_pred, y_true):\n",
    "    y_pred = torch.cat((y_pred, torch.zeros_like(y_pred[:, :1])), dim=1)\n",
    "    #accuracy = (y_pred.argmax(dim=-1) == y_true.argmax(dim=-1)).float().mean().item()\n",
    "    balanced_acc = balanced_accuracy_score(y_true.argmax(dim=-1).cpu().numpy(), y_pred.argmax(dim=-1).cpu().numpy())\n",
    "    print(\"Balanced Accuracy:\", balanced_acc)\n",
    "    #return accuracy > 0.95\n",
    "    return False\n",
    "\n",
    "# Define Bregman function\n",
    "layer = TensorTrainLayer(N, r, p, output_shape=C).cuda()"
   ]
  },
  {
   "cell_type": "code",
   "execution_count": null,
   "id": "65bfa52b",
   "metadata": {},
   "outputs": [],
   "source": [
    "layer.tensor_network.nodes"
   ]
  },
  {
   "cell_type": "code",
   "execution_count": null,
   "id": "728ddc29",
   "metadata": {},
   "outputs": [],
   "source": [
    "with torch.inference_mode():\n",
    "    y_pred = layer(xinp_train)\n",
    "    w = 1/y_pred.std().item()\n",
    "    del y_pred\n",
    "bf = XEAutogradBregman(w=w)\n",
    "\n",
    "layer.tensor_network.accumulating_swipe(xinp_train, y_train, bf, batch_size=64, lr=1.0, convergence_criterion=convergence_criterion, orthonormalize=False, method='exact', eps=1e-4, verbose=True, num_swipes=10)"
   ]
  },
  {
   "cell_type": "code",
   "execution_count": null,
   "id": "1b238a76-a019-4c2a-adb9-aa29057b2457",
   "metadata": {},
   "outputs": [],
   "source": [
    "print(\"Train accuracy:\")\n",
    "convergence_criterion(layer(xinp_train), y_train)\n",
    "print(\"Test accuracy:\")\n",
    "convergence_criterion(layer(xinp_test), y_test)\n",
    "None"
   ]
  },
  {
   "cell_type": "code",
   "execution_count": null,
   "id": "dbcb88e5",
   "metadata": {},
   "outputs": [],
   "source": [
    "from tensor.utils import visualize_tensornetwork\n",
    "visualize_tensornetwork(layer.tensor_network)"
   ]
  }
 ],
 "metadata": {
  "kernelspec": {
   "display_name": "s183995",
   "language": "python",
   "name": "python3"
  },
  "language_info": {
   "codemirror_mode": {
    "name": "ipython",
    "version": 3
   },
   "file_extension": ".py",
   "mimetype": "text/x-python",
   "name": "python",
   "nbconvert_exporter": "python",
   "pygments_lexer": "ipython3",
   "version": "3.12.5"
  }
 },
 "nbformat": 4,
 "nbformat_minor": 5
}
