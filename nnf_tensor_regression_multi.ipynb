{
 "cells": [
  {
   "cell_type": "code",
   "execution_count": 1,
   "id": "023ac9a7-136b-4354-9eda-899e2e12e73c",
   "metadata": {},
   "outputs": [],
   "source": [
    "# %%\n",
    "import os\n",
    "os.environ['CUDA_VISIBLE_DEVICES'] = '1'\n",
    "import torch\n",
    "from numpy import genfromtxt\n",
    "torch.set_default_dtype(torch.float64)"
   ]
  },
  {
   "cell_type": "code",
   "execution_count": 2,
   "id": "737aa6bd-3f7b-4b30-b192-224b2909e438",
   "metadata": {},
   "outputs": [],
   "source": [
    "from torch.nn import functional as F\n",
    "\n",
    "# train\n",
    "x = genfromtxt('data/mdata_train.txt', delimiter=',')\n",
    "X_train = x.T\n",
    "y_train = genfromtxt('data/mdata_train_l.txt',delimiter=',')\n",
    "\n",
    "x_test = genfromtxt('data/mdata_test.txt', delimiter=',')\n",
    "X_test = x_test.T\n",
    "y_test = genfromtxt('data/mdata_test_l.txt',delimiter=',')\n",
    "\n",
    "# Convert to torch\n",
    "X_train = torch.tensor(X_train, dtype=torch.float64)\n",
    "y_train = torch.tensor(y_train == 1, dtype=torch.long)\n",
    "X_test = torch.tensor(X_test, dtype=torch.float64)\n",
    "y_test = torch.tensor(y_test == 1, dtype=torch.long)\n",
    "\n",
    "y_train = F.one_hot(y_train, num_classes=2).to(dtype=torch.float64)\n",
    "y_test = F.one_hot(y_test, num_classes=2).to(dtype=torch.float64)\n",
    "\n",
    "# Move data to GPU\n",
    "X_train, y_train = X_train.cuda(), y_train.cuda()\n",
    "X_test, y_test = X_test.cuda(), y_test.cuda()\n",
    "\n",
    "# Prepare train input\n",
    "xinp_train = torch.cat([torch.ones(X_train.shape[0], 1, dtype=X_train.dtype, device=X_train.device), X_train], dim=-1)\n",
    "xinp_test = torch.cat([torch.ones(X_test.shape[0], 1, dtype=X_test.dtype, device=X_test.device), X_test], dim=-1)"
   ]
  },
  {
   "cell_type": "code",
   "execution_count": 3,
   "id": "6e1543ec-3512-4dee-a1a2-d52f65b4f9ea",
   "metadata": {},
   "outputs": [],
   "source": [
    "from tensor.layers import TensorTrainLayer\n",
    "from tensor.bregman import KLDivBregman, XEAutogradBregman\n",
    "\n",
    "N = 2\n",
    "r = 5\n",
    "p = X_train.shape[1]+1\n",
    "C = y_train.shape[1]-1\n",
    "\n",
    "def convergence_criterion(y_pred, y_true):\n",
    "    y_pred = torch.cat((y_pred, torch.zeros_like(y_pred[:, :1])), dim=1)\n",
    "    accuracy = (y_pred.argmax(dim=-1) == y_true.argmax(dim=-1)).float().mean().item()\n",
    "    print(\"Accuracy:\", accuracy)\n",
    "    #return accuracy > 0.95\n",
    "    return False\n",
    "\n",
    "# Define Bregman function\n",
    "layer = TensorTrainLayer(N, r, p, output_shape=C).cuda()"
   ]
  },
  {
   "cell_type": "code",
   "execution_count": 4,
   "id": "728ddc29",
   "metadata": {},
   "outputs": [
    {
     "data": {
      "application/vnd.jupyter.widget-view+json": {
       "model_id": "0543589c31a74cbd9583a83ae41bc28d",
       "version_major": 2,
       "version_minor": 0
      },
      "text/plain": [
       "Left to right pass (A1):   0%|          | 0/2129 [00:00<?, ?it/s]"
      ]
     },
     "metadata": {},
     "output_type": "display_data"
    },
    {
     "name": "stdout",
     "output_type": "stream",
     "text": [
      "Left loss (A1): 0.9622435052195917\n",
      "Accuracy: 0.7928816676139832\n"
     ]
    },
    {
     "data": {
      "application/vnd.jupyter.widget-view+json": {
       "model_id": "117fc00757964d42aefb9aa265665848",
       "version_major": 2,
       "version_minor": 0
      },
      "text/plain": [
       "Left to right pass (A2):   0%|          | 0/2129 [00:00<?, ?it/s]"
      ]
     },
     "metadata": {},
     "output_type": "display_data"
    },
    {
     "name": "stdout",
     "output_type": "stream",
     "text": [
      "Left loss (A2): 0.483949990438929\n",
      "Accuracy: 0.8244428038597107\n"
     ]
    },
    {
     "data": {
      "application/vnd.jupyter.widget-view+json": {
       "model_id": "7c7d9148244d43418ade4e2fc6c0ae03",
       "version_major": 2,
       "version_minor": 0
      },
      "text/plain": [
       "Right to left pass (A2):   0%|          | 0/2129 [00:00<?, ?it/s]"
      ]
     },
     "metadata": {},
     "output_type": "display_data"
    },
    {
     "name": "stdout",
     "output_type": "stream",
     "text": [
      "Right loss (A2): 0.40118026879141416\n",
      "Accuracy: 0.8363286852836609\n"
     ]
    },
    {
     "data": {
      "application/vnd.jupyter.widget-view+json": {
       "model_id": "36c89bef7a9042dea338a2ddc89e9629",
       "version_major": 2,
       "version_minor": 0
      },
      "text/plain": [
       "Right to left pass (A1):   0%|          | 0/2129 [00:00<?, ?it/s]"
      ]
     },
     "metadata": {},
     "output_type": "display_data"
    },
    {
     "name": "stdout",
     "output_type": "stream",
     "text": [
      "Right loss (A1): 0.38197519161031135\n",
      "Accuracy: 0.8437362313270569\n"
     ]
    },
    {
     "data": {
      "application/vnd.jupyter.widget-view+json": {
       "model_id": "6346e6a17dfc4e40be1af2e5769e5248",
       "version_major": 2,
       "version_minor": 0
      },
      "text/plain": [
       "Left to right pass (A1):   0%|          | 0/2129 [00:00<?, ?it/s]"
      ]
     },
     "metadata": {},
     "output_type": "display_data"
    },
    {
     "name": "stdout",
     "output_type": "stream",
     "text": [
      "Left loss (A1): 0.3704797250305111\n",
      "Accuracy: 0.8458579182624817\n"
     ]
    },
    {
     "data": {
      "application/vnd.jupyter.widget-view+json": {
       "model_id": "fa58d77e611b446f88ebd0e76b335c41",
       "version_major": 2,
       "version_minor": 0
      },
      "text/plain": [
       "Left to right pass (A2):   0%|          | 0/2129 [00:00<?, ?it/s]"
      ]
     },
     "metadata": {},
     "output_type": "display_data"
    },
    {
     "name": "stdout",
     "output_type": "stream",
     "text": [
      "Left loss (A2): 0.3691920097084087\n",
      "Accuracy: 0.8469665050506592\n"
     ]
    },
    {
     "data": {
      "application/vnd.jupyter.widget-view+json": {
       "model_id": "9c42445ce1824666a620c6c896468d68",
       "version_major": 2,
       "version_minor": 0
      },
      "text/plain": [
       "Right to left pass (A2):   0%|          | 0/2129 [00:00<?, ?it/s]"
      ]
     },
     "metadata": {},
     "output_type": "display_data"
    },
    {
     "name": "stdout",
     "output_type": "stream",
     "text": [
      "Right loss (A2): 0.366287089024954\n",
      "Accuracy: 0.847707986831665\n"
     ]
    },
    {
     "data": {
      "application/vnd.jupyter.widget-view+json": {
       "model_id": "a548f1371f5045c5a96b2cbd8bca2bc7",
       "version_major": 2,
       "version_minor": 0
      },
      "text/plain": [
       "Right to left pass (A1):   0%|          | 0/2129 [00:00<?, ?it/s]"
      ]
     },
     "metadata": {},
     "output_type": "display_data"
    },
    {
     "name": "stdout",
     "output_type": "stream",
     "text": [
      "Right loss (A1): 0.3658157091699136\n",
      "Accuracy: 0.8491616249084473\n"
     ]
    },
    {
     "data": {
      "application/vnd.jupyter.widget-view+json": {
       "model_id": "c850fc81f8424c1ea979b0e98bdea00c",
       "version_major": 2,
       "version_minor": 0
      },
      "text/plain": [
       "Left to right pass (A1):   0%|          | 0/2129 [00:00<?, ?it/s]"
      ]
     },
     "metadata": {},
     "output_type": "display_data"
    },
    {
     "name": "stdout",
     "output_type": "stream",
     "text": [
      "Left loss (A1): 0.3626640183897214\n",
      "Accuracy: 0.8498150110244751\n"
     ]
    },
    {
     "data": {
      "application/vnd.jupyter.widget-view+json": {
       "model_id": "2cb57b1250674c05b8bf6e7c4e69c8f5",
       "version_major": 2,
       "version_minor": 0
      },
      "text/plain": [
       "Left to right pass (A2):   0%|          | 0/2129 [00:00<?, ?it/s]"
      ]
     },
     "metadata": {},
     "output_type": "display_data"
    },
    {
     "name": "stdout",
     "output_type": "stream",
     "text": [
      "Left loss (A2): 0.36201644450856346\n",
      "Accuracy: 0.8502408266067505\n"
     ]
    },
    {
     "data": {
      "application/vnd.jupyter.widget-view+json": {
       "model_id": "afdb23014ae74138915a481a301530c6",
       "version_major": 2,
       "version_minor": 0
      },
      "text/plain": [
       "Right to left pass (A2):   0%|          | 0/2129 [00:00<?, ?it/s]"
      ]
     },
     "metadata": {},
     "output_type": "display_data"
    },
    {
     "name": "stdout",
     "output_type": "stream",
     "text": [
      "Right loss (A2): 0.3608057348273088\n",
      "Accuracy: 0.850314199924469\n"
     ]
    },
    {
     "data": {
      "application/vnd.jupyter.widget-view+json": {
       "model_id": "dc0a7cdfa15e46b8af334ae7b2f9daff",
       "version_major": 2,
       "version_minor": 0
      },
      "text/plain": [
       "Right to left pass (A1):   0%|          | 0/2129 [00:00<?, ?it/s]"
      ]
     },
     "metadata": {},
     "output_type": "display_data"
    },
    {
     "name": "stdout",
     "output_type": "stream",
     "text": [
      "Right loss (A1): 0.3607612516246867\n",
      "Accuracy: 0.8503876328468323\n"
     ]
    },
    {
     "data": {
      "application/vnd.jupyter.widget-view+json": {
       "model_id": "61783f1e7954425db812bdedfb1d55dc",
       "version_major": 2,
       "version_minor": 0
      },
      "text/plain": [
       "Left to right pass (A1):   0%|          | 0/2129 [00:00<?, ?it/s]"
      ]
     },
     "metadata": {},
     "output_type": "display_data"
    },
    {
     "name": "stdout",
     "output_type": "stream",
     "text": [
      "Left loss (A1): 0.3608846514464747\n",
      "Accuracy: 0.8508574962615967\n"
     ]
    },
    {
     "data": {
      "application/vnd.jupyter.widget-view+json": {
       "model_id": "f877096a4ad846608cc1e0ee3685cf22",
       "version_major": 2,
       "version_minor": 0
      },
      "text/plain": [
       "Left to right pass (A2):   0%|          | 0/2129 [00:00<?, ?it/s]"
      ]
     },
     "metadata": {},
     "output_type": "display_data"
    },
    {
     "name": "stdout",
     "output_type": "stream",
     "text": [
      "Left loss (A2): 0.3600133506552372\n",
      "Accuracy: 0.8512906432151794\n"
     ]
    },
    {
     "data": {
      "application/vnd.jupyter.widget-view+json": {
       "model_id": "3f9b77b3be6c4d1a9208888037eebd46",
       "version_major": 2,
       "version_minor": 0
      },
      "text/plain": [
       "Right to left pass (A2):   0%|          | 0/2129 [00:00<?, ?it/s]"
      ]
     },
     "metadata": {},
     "output_type": "display_data"
    },
    {
     "name": "stdout",
     "output_type": "stream",
     "text": [
      "Right loss (A2): 0.3591933755278234\n",
      "Accuracy: 0.8514007925987244\n"
     ]
    },
    {
     "data": {
      "application/vnd.jupyter.widget-view+json": {
       "model_id": "4de182be51f24319ab55dc85c9abc0d4",
       "version_major": 2,
       "version_minor": 0
      },
      "text/plain": [
       "Right to left pass (A1):   0%|          | 0/2129 [00:00<?, ?it/s]"
      ]
     },
     "metadata": {},
     "output_type": "display_data"
    },
    {
     "name": "stdout",
     "output_type": "stream",
     "text": [
      "Right loss (A1): 0.35913692631153\n",
      "Accuracy: 0.8513787388801575\n"
     ]
    },
    {
     "data": {
      "application/vnd.jupyter.widget-view+json": {
       "model_id": "d508f89e98414e869b0c38eac330cdfe",
       "version_major": 2,
       "version_minor": 0
      },
      "text/plain": [
       "Left to right pass (A1):   0%|          | 0/2129 [00:00<?, ?it/s]"
      ]
     },
     "metadata": {},
     "output_type": "display_data"
    },
    {
     "name": "stdout",
     "output_type": "stream",
     "text": [
      "Left loss (A1): 0.35871505605399107\n",
      "Accuracy: 0.8516577482223511\n"
     ]
    },
    {
     "data": {
      "application/vnd.jupyter.widget-view+json": {
       "model_id": "be62867c8b3b4ed6885acaabef0820fb",
       "version_major": 2,
       "version_minor": 0
      },
      "text/plain": [
       "Left to right pass (A2):   0%|          | 0/2129 [00:00<?, ?it/s]"
      ]
     },
     "metadata": {},
     "output_type": "display_data"
    },
    {
     "name": "stdout",
     "output_type": "stream",
     "text": [
      "Left loss (A2): 0.358669566741379\n",
      "Accuracy: 0.8516870737075806\n"
     ]
    },
    {
     "data": {
      "application/vnd.jupyter.widget-view+json": {
       "model_id": "4c1235ca9f82404aa8b136e6e7475d5d",
       "version_major": 2,
       "version_minor": 0
      },
      "text/plain": [
       "Right to left pass (A2):   0%|          | 0/2129 [00:00<?, ?it/s]"
      ]
     },
     "metadata": {},
     "output_type": "display_data"
    },
    {
     "name": "stdout",
     "output_type": "stream",
     "text": [
      "Right loss (A2): 0.3585465674137915\n",
      "Accuracy: 0.8517898917198181\n"
     ]
    },
    {
     "data": {
      "application/vnd.jupyter.widget-view+json": {
       "model_id": "b7645e8ef6884ca29d79d81ca53b2216",
       "version_major": 2,
       "version_minor": 0
      },
      "text/plain": [
       "Right to left pass (A1):   0%|          | 0/2129 [00:00<?, ?it/s]"
      ]
     },
     "metadata": {},
     "output_type": "display_data"
    },
    {
     "name": "stdout",
     "output_type": "stream",
     "text": [
      "Right loss (A1): 0.3584334258827094\n",
      "Accuracy: 0.8517751693725586\n"
     ]
    },
    {
     "data": {
      "application/vnd.jupyter.widget-view+json": {
       "model_id": "8932eaadf76f40608a0db235fdbb7b4b",
       "version_major": 2,
       "version_minor": 0
      },
      "text/plain": [
       "Left to right pass (A1):   0%|          | 0/2129 [00:00<?, ?it/s]"
      ]
     },
     "metadata": {},
     "output_type": "display_data"
    },
    {
     "name": "stdout",
     "output_type": "stream",
     "text": [
      "Left loss (A1): 0.35828225526250057\n",
      "Accuracy: 0.8519073128700256\n"
     ]
    },
    {
     "data": {
      "application/vnd.jupyter.widget-view+json": {
       "model_id": "cb95b787eb1042738d533c2c61edecae",
       "version_major": 2,
       "version_minor": 0
      },
      "text/plain": [
       "Left to right pass (A2):   0%|          | 0/2129 [00:00<?, ?it/s]"
      ]
     },
     "metadata": {},
     "output_type": "display_data"
    },
    {
     "name": "stdout",
     "output_type": "stream",
     "text": [
      "Left loss (A2): 0.3582509705343618\n",
      "Accuracy: 0.8521936535835266\n"
     ]
    },
    {
     "data": {
      "application/vnd.jupyter.widget-view+json": {
       "model_id": "d182abd8fe734aec882867ecb4ed5dd5",
       "version_major": 2,
       "version_minor": 0
      },
      "text/plain": [
       "Right to left pass (A2):   0%|          | 0/2129 [00:00<?, ?it/s]"
      ]
     },
     "metadata": {},
     "output_type": "display_data"
    },
    {
     "name": "stdout",
     "output_type": "stream",
     "text": [
      "Right loss (A2): 0.3580691530225355\n",
      "Accuracy: 0.852333128452301\n"
     ]
    },
    {
     "data": {
      "application/vnd.jupyter.widget-view+json": {
       "model_id": "5e075a56f21a49ec88715795c025d772",
       "version_major": 2,
       "version_minor": 0
      },
      "text/plain": [
       "Right to left pass (A1):   0%|          | 0/2129 [00:00<?, ?it/s]"
      ]
     },
     "metadata": {},
     "output_type": "display_data"
    },
    {
     "name": "stdout",
     "output_type": "stream",
     "text": [
      "Right loss (A1): 0.35796150486311384\n",
      "Accuracy: 0.8521936535835266\n"
     ]
    },
    {
     "data": {
      "application/vnd.jupyter.widget-view+json": {
       "model_id": "0c826092b6cb45e390ed982c5df4c4f7",
       "version_major": 2,
       "version_minor": 0
      },
      "text/plain": [
       "Left to right pass (A1):   0%|          | 0/2129 [00:00<?, ?it/s]"
      ]
     },
     "metadata": {},
     "output_type": "display_data"
    },
    {
     "name": "stdout",
     "output_type": "stream",
     "text": [
      "Left loss (A1): 0.3578704833075499\n",
      "Accuracy: 0.8521789908409119\n"
     ]
    },
    {
     "data": {
      "application/vnd.jupyter.widget-view+json": {
       "model_id": "c2a222a02fdf476d99a5ba7e85d282f7",
       "version_major": 2,
       "version_minor": 0
      },
      "text/plain": [
       "Left to right pass (A2):   0%|          | 0/2129 [00:00<?, ?it/s]"
      ]
     },
     "metadata": {},
     "output_type": "display_data"
    },
    {
     "name": "stdout",
     "output_type": "stream",
     "text": [
      "Left loss (A2): 0.357817747624383\n",
      "Accuracy: 0.8524065613746643\n"
     ]
    },
    {
     "data": {
      "application/vnd.jupyter.widget-view+json": {
       "model_id": "ccec24ea182642d98c9054756ee3ddc7",
       "version_major": 2,
       "version_minor": 0
      },
      "text/plain": [
       "Right to left pass (A2):   0%|          | 0/2129 [00:00<?, ?it/s]"
      ]
     },
     "metadata": {},
     "output_type": "display_data"
    },
    {
     "name": "stdout",
     "output_type": "stream",
     "text": [
      "Right loss (A2): 0.3577440224135541\n",
      "Accuracy: 0.8524946570396423\n"
     ]
    },
    {
     "data": {
      "application/vnd.jupyter.widget-view+json": {
       "model_id": "8b8161c3c0c845b7a1ebc9492db9d6fc",
       "version_major": 2,
       "version_minor": 0
      },
      "text/plain": [
       "Right to left pass (A1):   0%|          | 0/2129 [00:00<?, ?it/s]"
      ]
     },
     "metadata": {},
     "output_type": "display_data"
    },
    {
     "name": "stdout",
     "output_type": "stream",
     "text": [
      "Right loss (A1): 0.35762951027355305\n",
      "Accuracy: 0.8525460362434387\n"
     ]
    },
    {
     "data": {
      "application/vnd.jupyter.widget-view+json": {
       "model_id": "7b1463db1fec424883106f762131043e",
       "version_major": 2,
       "version_minor": 0
      },
      "text/plain": [
       "Left to right pass (A1):   0%|          | 0/2129 [00:00<?, ?it/s]"
      ]
     },
     "metadata": {},
     "output_type": "display_data"
    },
    {
     "name": "stdout",
     "output_type": "stream",
     "text": [
      "Left loss (A1): 0.35768238871775554\n",
      "Accuracy: 0.8526414632797241\n"
     ]
    },
    {
     "data": {
      "application/vnd.jupyter.widget-view+json": {
       "model_id": "c1e5c4bfee24459eaa89de3ef66127c6",
       "version_major": 2,
       "version_minor": 0
      },
      "text/plain": [
       "Left to right pass (A2):   0%|          | 0/2129 [00:00<?, ?it/s]"
      ]
     },
     "metadata": {},
     "output_type": "display_data"
    },
    {
     "name": "stdout",
     "output_type": "stream",
     "text": [
      "Left loss (A2): 0.35765450961913425\n",
      "Accuracy: 0.852663516998291\n"
     ]
    },
    {
     "data": {
      "application/vnd.jupyter.widget-view+json": {
       "model_id": "a331d234889047d4b70e37340a67fc1d",
       "version_major": 2,
       "version_minor": 0
      },
      "text/plain": [
       "Right to left pass (A2):   0%|          | 0/2129 [00:00<?, ?it/s]"
      ]
     },
     "metadata": {},
     "output_type": "display_data"
    },
    {
     "name": "stdout",
     "output_type": "stream",
     "text": [
      "Right loss (A2): 0.3576251676132071\n",
      "Accuracy: 0.8528029918670654\n"
     ]
    },
    {
     "data": {
      "application/vnd.jupyter.widget-view+json": {
       "model_id": "7f4d5076810240778fcc260bc1a02507",
       "version_major": 2,
       "version_minor": 0
      },
      "text/plain": [
       "Right to left pass (A1):   0%|          | 0/2129 [00:00<?, ?it/s]"
      ]
     },
     "metadata": {},
     "output_type": "display_data"
    },
    {
     "name": "stdout",
     "output_type": "stream",
     "text": [
      "Right loss (A1): 0.35753664524711676\n",
      "Accuracy: 0.8526708483695984\n"
     ]
    },
    {
     "data": {
      "application/vnd.jupyter.widget-view+json": {
       "model_id": "40c51bda9e584807bd9c2d6b5e51abf5",
       "version_major": 2,
       "version_minor": 0
      },
      "text/plain": [
       "Left to right pass (A1):   0%|          | 0/2129 [00:00<?, ?it/s]"
      ]
     },
     "metadata": {},
     "output_type": "display_data"
    },
    {
     "name": "stdout",
     "output_type": "stream",
     "text": [
      "Left loss (A1): 0.35762295961506\n",
      "Accuracy: 0.8527589440345764\n"
     ]
    },
    {
     "data": {
      "application/vnd.jupyter.widget-view+json": {
       "model_id": "639aa6697e824807b507345f496a16d2",
       "version_major": 2,
       "version_minor": 0
      },
      "text/plain": [
       "Left to right pass (A2):   0%|          | 0/2129 [00:00<?, ?it/s]"
      ]
     },
     "metadata": {},
     "output_type": "display_data"
    },
    {
     "name": "stdout",
     "output_type": "stream",
     "text": [
      "Left loss (A2): 0.35761022846279655\n",
      "Accuracy: 0.85270756483078\n"
     ]
    },
    {
     "data": {
      "application/vnd.jupyter.widget-view+json": {
       "model_id": "1fac64bdd79644b5bac2d7f48d8d962e",
       "version_major": 2,
       "version_minor": 0
      },
      "text/plain": [
       "Right to left pass (A2):   0%|          | 0/2129 [00:00<?, ?it/s]"
      ]
     },
     "metadata": {},
     "output_type": "display_data"
    },
    {
     "name": "stdout",
     "output_type": "stream",
     "text": [
      "Right loss (A2): 0.3575840202376702\n",
      "Accuracy: 0.8527736067771912\n"
     ]
    },
    {
     "data": {
      "application/vnd.jupyter.widget-view+json": {
       "model_id": "7b06c85e3ec74d88b60bf158124ebe56",
       "version_major": 2,
       "version_minor": 0
      },
      "text/plain": [
       "Right to left pass (A1):   0%|          | 0/2129 [00:00<?, ?it/s]"
      ]
     },
     "metadata": {},
     "output_type": "display_data"
    },
    {
     "name": "stdout",
     "output_type": "stream",
     "text": [
      "Right loss (A1): 0.35752148190713706\n",
      "Accuracy: 0.8526781797409058\n"
     ]
    },
    {
     "data": {
      "application/vnd.jupyter.widget-view+json": {
       "model_id": "ab048d7128f641c6bd420a31442c8e84",
       "version_major": 2,
       "version_minor": 0
      },
      "text/plain": [
       "Left to right pass (A1):   0%|          | 0/2129 [00:00<?, ?it/s]"
      ]
     },
     "metadata": {},
     "output_type": "display_data"
    },
    {
     "name": "stdout",
     "output_type": "stream",
     "text": [
      "Left loss (A1): 0.35760805626339043\n",
      "Accuracy: 0.8527883291244507\n"
     ]
    },
    {
     "data": {
      "application/vnd.jupyter.widget-view+json": {
       "model_id": "4a87820b75a34e75bfb92eacfd81505b",
       "version_major": 2,
       "version_minor": 0
      },
      "text/plain": [
       "Left to right pass (A2):   0%|          | 0/2129 [00:00<?, ?it/s]"
      ]
     },
     "metadata": {},
     "output_type": "display_data"
    },
    {
     "name": "stdout",
     "output_type": "stream",
     "text": [
      "Left loss (A2): 0.3576158118302777\n",
      "Accuracy: 0.8526561856269836\n"
     ]
    },
    {
     "data": {
      "application/vnd.jupyter.widget-view+json": {
       "model_id": "4ba565854ee34e5a827287dd9325e16c",
       "version_major": 2,
       "version_minor": 0
      },
      "text/plain": [
       "Right to left pass (A2):   0%|          | 0/2129 [00:00<?, ?it/s]"
      ]
     },
     "metadata": {},
     "output_type": "display_data"
    },
    {
     "name": "stdout",
     "output_type": "stream",
     "text": [
      "Right loss (A2): 0.35757342716765134\n",
      "Accuracy: 0.8527736067771912\n"
     ]
    },
    {
     "data": {
      "application/vnd.jupyter.widget-view+json": {
       "model_id": "ab261a3003bd499b9e9e2fa3b0655738",
       "version_major": 2,
       "version_minor": 0
      },
      "text/plain": [
       "Right to left pass (A1):   0%|          | 0/2129 [00:00<?, ?it/s]"
      ]
     },
     "metadata": {},
     "output_type": "display_data"
    },
    {
     "name": "stdout",
     "output_type": "stream",
     "text": [
      "Right loss (A1): 0.3575356110388983\n",
      "Accuracy: 0.8527883291244507\n"
     ]
    },
    {
     "data": {
      "text/plain": [
       "False"
      ]
     },
     "execution_count": 4,
     "metadata": {},
     "output_type": "execute_result"
    }
   ],
   "source": [
    "with torch.inference_mode():\n",
    "    y_pred = layer(xinp_train)\n",
    "    w = 1/y_pred.std().item()\n",
    "    del y_pred\n",
    "bf = XEAutogradBregman(w=w)\n",
    "\n",
    "layer.tensor_network.accumulating_swipe(xinp_train, y_train, bf, batch_size=64, lr=1.0, convergence_criterion=convergence_criterion, orthonormalize=False, method='exact', eps=1e-4, verbose=True, num_swipes=10)"
   ]
  },
  {
   "cell_type": "code",
   "execution_count": 5,
   "id": "1b238a76-a019-4c2a-adb9-aa29057b2457",
   "metadata": {},
   "outputs": [
    {
     "name": "stdout",
     "output_type": "stream",
     "text": [
      "Train accuracy:\n",
      "Accuracy: 0.8527883291244507\n",
      "Test accuracy:\n",
      "Accuracy: 0.8393067121505737\n"
     ]
    }
   ],
   "source": [
    "print(\"Train accuracy:\")\n",
    "convergence_criterion(layer(xinp_train), y_train)\n",
    "print(\"Test accuracy:\")\n",
    "convergence_criterion(layer(xinp_test), y_test)\n",
    "None"
   ]
  },
  {
   "cell_type": "code",
   "execution_count": null,
   "id": "18ac107e",
   "metadata": {},
   "outputs": [],
   "source": []
  }
 ],
 "metadata": {
  "kernelspec": {
   "display_name": "s183995",
   "language": "python",
   "name": "python3"
  },
  "language_info": {
   "codemirror_mode": {
    "name": "ipython",
    "version": 3
   },
   "file_extension": ".py",
   "mimetype": "text/x-python",
   "name": "python",
   "nbconvert_exporter": "python",
   "pygments_lexer": "ipython3",
   "version": "3.12.5"
  }
 },
 "nbformat": 4,
 "nbformat_minor": 5
}
