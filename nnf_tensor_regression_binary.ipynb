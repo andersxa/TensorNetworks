{
 "cells": [
  {
   "cell_type": "code",
   "execution_count": 1,
   "id": "023ac9a7-136b-4354-9eda-899e2e12e73c",
   "metadata": {},
   "outputs": [],
   "source": [
    "# %%\n",
    "import os\n",
    "os.environ['CUDA_VISIBLE_DEVICES'] = '0'\n",
    "import torch\n",
    "from numpy import genfromtxt\n",
    "torch.set_default_dtype(torch.float64)"
   ]
  },
  {
   "cell_type": "code",
   "execution_count": 2,
   "id": "0aa77bbb-d110-47b7-9649-be937f98f242",
   "metadata": {},
   "outputs": [],
   "source": [
    "# train\n",
    "x = genfromtxt('data/mdata_train.txt', delimiter=',')\n",
    "X_train = x.T\n",
    "y_train = genfromtxt('data/mdata_train_l.txt',delimiter=',')\n",
    "\n",
    "x_test = genfromtxt('data/mdata_test.txt', delimiter=',')\n",
    "X_test = x_test.T\n",
    "y_test = genfromtxt('data/mdata_test_l.txt',delimiter=',')\n",
    "\n",
    "# Convert to torch\n",
    "X_train = torch.tensor(X_train, dtype=torch.float64)\n",
    "y_train = torch.tensor(y_train == 1, dtype=torch.long).unsqueeze(1)\n",
    "X_test = torch.tensor(X_test, dtype=torch.float64)\n",
    "y_test = torch.tensor(y_test == 1, dtype=torch.long).unsqueeze(1)\n",
    "\n",
    "# Move data to GPU\n",
    "X_train, y_train = X_train.cuda(), y_train.cuda()\n",
    "X_test, y_test = X_test.cuda(), y_test.cuda()\n",
    "\n",
    "# Prepare train input\n",
    "xinp_train = torch.cat([torch.ones(X_train.shape[0], 1, dtype=X_train.dtype, device=X_train.device), X_train], dim=-1)\n",
    "xinp_test = torch.cat([torch.ones(X_test.shape[0], 1, dtype=X_test.dtype, device=X_test.device), X_test], dim=-1)"
   ]
  },
  {
   "cell_type": "code",
   "execution_count": 3,
   "id": "6e1543ec-3512-4dee-a1a2-d52f65b4f9ea",
   "metadata": {},
   "outputs": [],
   "source": [
    "from tensor.layers import TensorTrainLayer\n",
    "from tensor.bregman import KLDivBregman, AutogradBregman, BinaryKLDivBregman\n",
    "\n",
    "N = 2\n",
    "r = 2\n",
    "p = X_train.shape[1]+1\n",
    "#C = y_train.shape[1]\n",
    "\n",
    "# Define Bregman function\n",
    "layer = TensorTrainLayer(N, r, p, output_shape=1).cuda()\n",
    "y_pred = layer(xinp_train)\n",
    "w = 1/y_pred.std().item()\n",
    "del y_pred\n",
    "bf = BinaryKLDivBregman(w=w)\n",
    "\n",
    "def convergence_criterion(y_pred, y_true):\n",
    "    accuracy = (((w*y_pred).sigmoid() > 0.5).long() == y_true).float().mean().item()\n",
    "    print(\"Accuracy:\", accuracy)\n",
    "    return accuracy > 0.82"
   ]
  },
  {
   "cell_type": "code",
   "execution_count": 4,
   "id": "6f0cc292-2898-44ea-823b-2e1fe24b5b86",
   "metadata": {},
   "outputs": [
    {
     "data": {
      "application/vnd.jupyter.widget-view+json": {
       "model_id": "6aaccfc0b1c6433d8e7a1aac2175efd8",
       "version_major": 2,
       "version_minor": 0
      },
      "text/plain": [
       "Left to right pass (A1):   0%|          | 0/2129 [00:00<?, ?it/s]"
      ]
     },
     "metadata": {},
     "output_type": "display_data"
    },
    {
     "name": "stdout",
     "output_type": "stream",
     "text": [
      "Left loss (A1): 1.1968429600293327\n",
      "Accuracy: 0.7699542045593262\n"
     ]
    },
    {
     "data": {
      "application/vnd.jupyter.widget-view+json": {
       "model_id": "f48ac7cc9ee941cab15044afc6a41649",
       "version_major": 2,
       "version_minor": 0
      },
      "text/plain": [
       "Left to right pass (A2):   0%|          | 0/2129 [00:00<?, ?it/s]"
      ]
     },
     "metadata": {},
     "output_type": "display_data"
    },
    {
     "name": "stdout",
     "output_type": "stream",
     "text": [
      "Left loss (A2): 0.798898693073401\n",
      "Accuracy: 0.47732946276664734\n"
     ]
    },
    {
     "data": {
      "application/vnd.jupyter.widget-view+json": {
       "model_id": "ea2b9f49b726438ea93f0f7e4c85b6f9",
       "version_major": 2,
       "version_minor": 0
      },
      "text/plain": [
       "Right to left pass (A2):   0%|          | 0/2129 [00:00<?, ?it/s]"
      ]
     },
     "metadata": {},
     "output_type": "display_data"
    },
    {
     "name": "stdout",
     "output_type": "stream",
     "text": [
      "Right loss (A2): 4.225444908772426\n",
      "Accuracy: 0.5430358648300171\n"
     ]
    },
    {
     "data": {
      "application/vnd.jupyter.widget-view+json": {
       "model_id": "a3ac53ebdf764bb7b3c77a5f5d413069",
       "version_major": 2,
       "version_minor": 0
      },
      "text/plain": [
       "Right to left pass (A1):   0%|          | 0/2129 [00:00<?, ?it/s]"
      ]
     },
     "metadata": {},
     "output_type": "display_data"
    },
    {
     "name": "stdout",
     "output_type": "stream",
     "text": [
      "Right loss (A1): 10.600055020156042\n",
      "Accuracy: 0.45669251680374146\n"
     ]
    },
    {
     "data": {
      "application/vnd.jupyter.widget-view+json": {
       "model_id": "cef3e5638c594276b1ab922fb8320029",
       "version_major": 2,
       "version_minor": 0
      },
      "text/plain": [
       "Left to right pass (A1):   0%|          | 0/2129 [00:00<?, ?it/s]"
      ]
     },
     "metadata": {},
     "output_type": "display_data"
    },
    {
     "name": "stdout",
     "output_type": "stream",
     "text": [
      "Left loss (A1): 15.009878531773067\n",
      "Accuracy: 0.5872096419334412\n"
     ]
    },
    {
     "data": {
      "application/vnd.jupyter.widget-view+json": {
       "model_id": "b9215d0c4d5c44639677cb46ef1bd537",
       "version_major": 2,
       "version_minor": 0
      },
      "text/plain": [
       "Left to right pass (A2):   0%|          | 0/2129 [00:00<?, ?it/s]"
      ]
     },
     "metadata": {},
     "output_type": "display_data"
    },
    {
     "name": "stdout",
     "output_type": "stream",
     "text": [
      "Left loss (A2): 11.408387546298432\n",
      "Accuracy: 0.7433779835700989\n"
     ]
    },
    {
     "data": {
      "application/vnd.jupyter.widget-view+json": {
       "model_id": "a4fb7831a0454da7bc93d745c6271351",
       "version_major": 2,
       "version_minor": 0
      },
      "text/plain": [
       "Right to left pass (A2):   0%|          | 0/2129 [00:00<?, ?it/s]"
      ]
     },
     "metadata": {},
     "output_type": "display_data"
    },
    {
     "name": "stdout",
     "output_type": "stream",
     "text": [
      "Right loss (A2): 7.088439739400984\n",
      "Accuracy: 0.7701597809791565\n"
     ]
    },
    {
     "data": {
      "application/vnd.jupyter.widget-view+json": {
       "model_id": "74d0005825254bc0b7637d1e0eaa0d3c",
       "version_major": 2,
       "version_minor": 0
      },
      "text/plain": [
       "Right to left pass (A1):   0%|          | 0/2129 [00:00<?, ?it/s]"
      ]
     },
     "metadata": {},
     "output_type": "display_data"
    },
    {
     "name": "stdout",
     "output_type": "stream",
     "text": [
      "Right loss (A1): 6.34867185161424\n",
      "Accuracy: 0.41052183508872986\n"
     ]
    },
    {
     "data": {
      "application/vnd.jupyter.widget-view+json": {
       "model_id": "80a0fda71fe749e193d0e23cbbaeeba2",
       "version_major": 2,
       "version_minor": 0
      },
      "text/plain": [
       "Left to right pass (A1):   0%|          | 0/2129 [00:00<?, ?it/s]"
      ]
     },
     "metadata": {},
     "output_type": "display_data"
    },
    {
     "name": "stdout",
     "output_type": "stream",
     "text": [
      "Left loss (A1): 16.291556869929174\n",
      "Accuracy: 0.6976110935211182\n"
     ]
    },
    {
     "data": {
      "application/vnd.jupyter.widget-view+json": {
       "model_id": "47a7c57cdf06466382149ae45b311a22",
       "version_major": 2,
       "version_minor": 0
      },
      "text/plain": [
       "Left to right pass (A2):   0%|          | 0/2129 [00:00<?, ?it/s]"
      ]
     },
     "metadata": {},
     "output_type": "display_data"
    },
    {
     "name": "stdout",
     "output_type": "stream",
     "text": [
      "Left loss (A2): 8.352618698191232\n",
      "Accuracy: 0.7584353685379028\n"
     ]
    },
    {
     "data": {
      "application/vnd.jupyter.widget-view+json": {
       "model_id": "026db46ae1b84328ba3583b25562108a",
       "version_major": 2,
       "version_minor": 0
      },
      "text/plain": [
       "Right to left pass (A2):   0%|          | 0/2129 [00:00<?, ?it/s]"
      ]
     },
     "metadata": {},
     "output_type": "display_data"
    },
    {
     "name": "stdout",
     "output_type": "stream",
     "text": [
      "Right loss (A2): 6.6725224907190315\n",
      "Accuracy: 0.7570772171020508\n"
     ]
    },
    {
     "data": {
      "application/vnd.jupyter.widget-view+json": {
       "model_id": "e44936439ee04cd6873302280258e52b",
       "version_major": 2,
       "version_minor": 0
      },
      "text/plain": [
       "Right to left pass (A1):   0%|          | 0/2129 [00:00<?, ?it/s]"
      ]
     },
     "metadata": {},
     "output_type": "display_data"
    },
    {
     "name": "stdout",
     "output_type": "stream",
     "text": [
      "Right loss (A1): 6.710039175872159\n",
      "Accuracy: 0.40097787976264954\n"
     ]
    },
    {
     "data": {
      "application/vnd.jupyter.widget-view+json": {
       "model_id": "0df8364d11fc4b6ab31f40522d035daf",
       "version_major": 2,
       "version_minor": 0
      },
      "text/plain": [
       "Left to right pass (A1):   0%|          | 0/2129 [00:00<?, ?it/s]"
      ]
     },
     "metadata": {},
     "output_type": "display_data"
    },
    {
     "name": "stdout",
     "output_type": "stream",
     "text": [
      "Left loss (A1): 16.55518144837794\n",
      "Accuracy: 0.6894106268882751\n"
     ]
    },
    {
     "data": {
      "application/vnd.jupyter.widget-view+json": {
       "model_id": "9e04e36224c546948dbcdb86c2129e01",
       "version_major": 2,
       "version_minor": 0
      },
      "text/plain": [
       "Left to right pass (A2):   0%|          | 0/2129 [00:00<?, ?it/s]"
      ]
     },
     "metadata": {},
     "output_type": "display_data"
    },
    {
     "name": "stdout",
     "output_type": "stream",
     "text": [
      "Left loss (A2): 8.579132578494061\n",
      "Accuracy: 0.7548307180404663\n"
     ]
    },
    {
     "data": {
      "application/vnd.jupyter.widget-view+json": {
       "model_id": "c1d963a363354981887ac177be4e9c05",
       "version_major": 2,
       "version_minor": 0
      },
      "text/plain": [
       "Right to left pass (A2):   0%|          | 0/2129 [00:00<?, ?it/s]"
      ]
     },
     "metadata": {},
     "output_type": "display_data"
    },
    {
     "name": "stdout",
     "output_type": "stream",
     "text": [
      "Right loss (A2): 6.772091061945116\n",
      "Accuracy: 0.7599917650222778\n"
     ]
    },
    {
     "data": {
      "application/vnd.jupyter.widget-view+json": {
       "model_id": "136fe9fe30b9486ba7da46bddffa9238",
       "version_major": 2,
       "version_minor": 0
      },
      "text/plain": [
       "Right to left pass (A1):   0%|          | 0/2129 [00:00<?, ?it/s]"
      ]
     },
     "metadata": {},
     "output_type": "display_data"
    },
    {
     "name": "stdout",
     "output_type": "stream",
     "text": [
      "Right loss (A1): 6.6295323565531055\n",
      "Accuracy: 0.4228482246398926\n"
     ]
    },
    {
     "data": {
      "application/vnd.jupyter.widget-view+json": {
       "model_id": "c1627fe5cf374f0f8741ec58931c975f",
       "version_major": 2,
       "version_minor": 0
      },
      "text/plain": [
       "Left to right pass (A1):   0%|          | 0/2129 [00:00<?, ?it/s]"
      ]
     },
     "metadata": {},
     "output_type": "display_data"
    },
    {
     "name": "stdout",
     "output_type": "stream",
     "text": [
      "Left loss (A1): 15.951076626510924\n",
      "Accuracy: 0.6631134152412415\n"
     ]
    },
    {
     "data": {
      "application/vnd.jupyter.widget-view+json": {
       "model_id": "925a6ffabd7245758a5bc835e9586c4a",
       "version_major": 2,
       "version_minor": 0
      },
      "text/plain": [
       "Left to right pass (A2):   0%|          | 0/2129 [00:00<?, ?it/s]"
      ]
     },
     "metadata": {},
     "output_type": "display_data"
    },
    {
     "name": "stdout",
     "output_type": "stream",
     "text": [
      "Left loss (A2): 9.305518166400173\n",
      "Accuracy: 0.754206657409668\n"
     ]
    },
    {
     "data": {
      "application/vnd.jupyter.widget-view+json": {
       "model_id": "bb445d16cdfe4a0c9d937b96257ce83c",
       "version_major": 2,
       "version_minor": 0
      },
      "text/plain": [
       "Right to left pass (A2):   0%|          | 0/2129 [00:00<?, ?it/s]"
      ]
     },
     "metadata": {},
     "output_type": "display_data"
    },
    {
     "name": "stdout",
     "output_type": "stream",
     "text": [
      "Right loss (A2): 6.789327945360886\n",
      "Accuracy: 0.7652189135551453\n"
     ]
    },
    {
     "data": {
      "application/vnd.jupyter.widget-view+json": {
       "model_id": "94367bdc8ba94969af24b53b92ca2f3d",
       "version_major": 2,
       "version_minor": 0
      },
      "text/plain": [
       "Right to left pass (A1):   0%|          | 0/2129 [00:00<?, ?it/s]"
      ]
     },
     "metadata": {},
     "output_type": "display_data"
    },
    {
     "name": "stdout",
     "output_type": "stream",
     "text": [
      "Right loss (A1): 6.485147556558141\n",
      "Accuracy: 0.41736412048339844\n"
     ]
    },
    {
     "data": {
      "application/vnd.jupyter.widget-view+json": {
       "model_id": "f046b2b63c0f41768c452d47562ab5cd",
       "version_major": 2,
       "version_minor": 0
      },
      "text/plain": [
       "Left to right pass (A1):   0%|          | 0/2129 [00:00<?, ?it/s]"
      ]
     },
     "metadata": {},
     "output_type": "display_data"
    },
    {
     "name": "stdout",
     "output_type": "stream",
     "text": [
      "Left loss (A1): 16.102559111729278\n",
      "Accuracy: 0.6620121598243713\n"
     ]
    },
    {
     "data": {
      "application/vnd.jupyter.widget-view+json": {
       "model_id": "397b71d3a1384cc6abf9e01d71cd3154",
       "version_major": 2,
       "version_minor": 0
      },
      "text/plain": [
       "Left to right pass (A2):   0%|          | 0/2129 [00:00<?, ?it/s]"
      ]
     },
     "metadata": {},
     "output_type": "display_data"
    },
    {
     "name": "stdout",
     "output_type": "stream",
     "text": [
      "Left loss (A2): 9.335936357797571\n",
      "Accuracy: 0.7510057687759399\n"
     ]
    },
    {
     "data": {
      "application/vnd.jupyter.widget-view+json": {
       "model_id": "fa61cdb7612b4138b3e90989b5e709e9",
       "version_major": 2,
       "version_minor": 0
      },
      "text/plain": [
       "Right to left pass (A2):   0%|          | 0/2129 [00:00<?, ?it/s]"
      ]
     },
     "metadata": {},
     "output_type": "display_data"
    },
    {
     "name": "stdout",
     "output_type": "stream",
     "text": [
      "Right loss (A2): 6.877743417311222\n",
      "Accuracy: 0.7711802124977112\n"
     ]
    },
    {
     "data": {
      "application/vnd.jupyter.widget-view+json": {
       "model_id": "936ddde03a704320a6b980687e226d10",
       "version_major": 2,
       "version_minor": 0
      },
      "text/plain": [
       "Right to left pass (A1):   0%|          | 0/2129 [00:00<?, ?it/s]"
      ]
     },
     "metadata": {},
     "output_type": "display_data"
    },
    {
     "name": "stdout",
     "output_type": "stream",
     "text": [
      "Right loss (A1): 6.320483836255918\n",
      "Accuracy: 0.4200437664985657\n"
     ]
    },
    {
     "data": {
      "application/vnd.jupyter.widget-view+json": {
       "model_id": "336bfb932d484597bb4df1261dcc9fda",
       "version_major": 2,
       "version_minor": 0
      },
      "text/plain": [
       "Left to right pass (A1):   0%|          | 0/2129 [00:00<?, ?it/s]"
      ]
     },
     "metadata": {},
     "output_type": "display_data"
    },
    {
     "name": "stdout",
     "output_type": "stream",
     "text": [
      "Left loss (A1): 16.028541782032367\n",
      "Accuracy: 0.6661013960838318\n"
     ]
    },
    {
     "data": {
      "application/vnd.jupyter.widget-view+json": {
       "model_id": "2416939bfb6443e68cc70715cfb57221",
       "version_major": 2,
       "version_minor": 0
      },
      "text/plain": [
       "Left to right pass (A2):   0%|          | 0/2129 [00:00<?, ?it/s]"
      ]
     },
     "metadata": {},
     "output_type": "display_data"
    },
    {
     "name": "stdout",
     "output_type": "stream",
     "text": [
      "Left loss (A2): 9.222983451072706\n",
      "Accuracy: 0.7543094754219055\n"
     ]
    },
    {
     "data": {
      "application/vnd.jupyter.widget-view+json": {
       "model_id": "cce691dc4876416ca84484b2abe83a59",
       "version_major": 2,
       "version_minor": 0
      },
      "text/plain": [
       "Right to left pass (A2):   0%|          | 0/2129 [00:00<?, ?it/s]"
      ]
     },
     "metadata": {},
     "output_type": "display_data"
    },
    {
     "name": "stdout",
     "output_type": "stream",
     "text": [
      "Right loss (A2): 6.786488910983783\n",
      "Accuracy: 0.7571506500244141\n"
     ]
    },
    {
     "data": {
      "application/vnd.jupyter.widget-view+json": {
       "model_id": "43f20975a8c84580838ee9fa7ddeb316",
       "version_major": 2,
       "version_minor": 0
      },
      "text/plain": [
       "Right to left pass (A1):   0%|          | 0/2129 [00:00<?, ?it/s]"
      ]
     },
     "metadata": {},
     "output_type": "display_data"
    },
    {
     "name": "stdout",
     "output_type": "stream",
     "text": [
      "Right loss (A1): 6.708011349352038\n",
      "Accuracy: 0.43292808532714844\n"
     ]
    },
    {
     "data": {
      "application/vnd.jupyter.widget-view+json": {
       "model_id": "0eb4318756c848ee818d36b7cc8a9c79",
       "version_major": 2,
       "version_minor": 0
      },
      "text/plain": [
       "Left to right pass (A1):   0%|          | 0/2129 [00:00<?, ?it/s]"
      ]
     },
     "metadata": {},
     "output_type": "display_data"
    },
    {
     "name": "stdout",
     "output_type": "stream",
     "text": [
      "Left loss (A1): 15.672648675542385\n",
      "Accuracy: 0.6589214205741882\n"
     ]
    },
    {
     "data": {
      "application/vnd.jupyter.widget-view+json": {
       "model_id": "a6d8b5766fef48d3994811afd93a6e98",
       "version_major": 2,
       "version_minor": 0
      },
      "text/plain": [
       "Left to right pass (A2):   0%|          | 0/2129 [00:00<?, ?it/s]"
      ]
     },
     "metadata": {},
     "output_type": "display_data"
    },
    {
     "name": "stdout",
     "output_type": "stream",
     "text": [
      "Left loss (A2): 9.421310038825617\n",
      "Accuracy: 0.7577526569366455\n"
     ]
    },
    {
     "data": {
      "application/vnd.jupyter.widget-view+json": {
       "model_id": "49b6da67674b4f24a5f6d15190a01d9f",
       "version_major": 2,
       "version_minor": 0
      },
      "text/plain": [
       "Right to left pass (A2):   0%|          | 0/2129 [00:00<?, ?it/s]"
      ]
     },
     "metadata": {},
     "output_type": "display_data"
    },
    {
     "name": "stdout",
     "output_type": "stream",
     "text": [
      "Right loss (A2): 6.691381509135428\n",
      "Accuracy: 0.775188684463501\n"
     ]
    },
    {
     "data": {
      "application/vnd.jupyter.widget-view+json": {
       "model_id": "9df8ae7a06714eacb1c663ee1b15dc86",
       "version_major": 2,
       "version_minor": 0
      },
      "text/plain": [
       "Right to left pass (A1):   0%|          | 0/2129 [00:00<?, ?it/s]"
      ]
     },
     "metadata": {},
     "output_type": "display_data"
    },
    {
     "name": "stdout",
     "output_type": "stream",
     "text": [
      "Right loss (A1): 6.209762036356448\n",
      "Accuracy: 0.4083854556083679\n"
     ]
    },
    {
     "data": {
      "application/vnd.jupyter.widget-view+json": {
       "model_id": "833f548f57c1453cbad1edb33773aa19",
       "version_major": 2,
       "version_minor": 0
      },
      "text/plain": [
       "Left to right pass (A1):   0%|          | 0/2129 [00:00<?, ?it/s]"
      ]
     },
     "metadata": {},
     "output_type": "display_data"
    },
    {
     "name": "stdout",
     "output_type": "stream",
     "text": [
      "Left loss (A1): 16.35056857581268\n",
      "Accuracy: 0.6742357611656189\n"
     ]
    },
    {
     "data": {
      "application/vnd.jupyter.widget-view+json": {
       "model_id": "6426cc2e92454e74aff85f54c978bf70",
       "version_major": 2,
       "version_minor": 0
      },
      "text/plain": [
       "Left to right pass (A2):   0%|          | 0/2129 [00:00<?, ?it/s]"
      ]
     },
     "metadata": {},
     "output_type": "display_data"
    },
    {
     "name": "stdout",
     "output_type": "stream",
     "text": [
      "Left loss (A2): 8.9982948836292\n",
      "Accuracy: 0.7533403635025024\n"
     ]
    },
    {
     "data": {
      "application/vnd.jupyter.widget-view+json": {
       "model_id": "f64688515ccf4cd786687932234139c0",
       "version_major": 2,
       "version_minor": 0
      },
      "text/plain": [
       "Right to left pass (A2):   0%|          | 0/2129 [00:00<?, ?it/s]"
      ]
     },
     "metadata": {},
     "output_type": "display_data"
    },
    {
     "name": "stdout",
     "output_type": "stream",
     "text": [
      "Right loss (A2): 6.813256969899681\n",
      "Accuracy: 0.7701230645179749\n"
     ]
    },
    {
     "data": {
      "application/vnd.jupyter.widget-view+json": {
       "model_id": "2b01b3f6032440c283bde1a5d1e0c0eb",
       "version_major": 2,
       "version_minor": 0
      },
      "text/plain": [
       "Right to left pass (A1):   0%|          | 0/2129 [00:00<?, ?it/s]"
      ]
     },
     "metadata": {},
     "output_type": "display_data"
    },
    {
     "name": "stdout",
     "output_type": "stream",
     "text": [
      "Right loss (A1): 6.349685204746469\n",
      "Accuracy: 0.4172540009021759\n"
     ]
    },
    {
     "data": {
      "application/vnd.jupyter.widget-view+json": {
       "model_id": "3cff3e0f857f436fbc496b420aedfce6",
       "version_major": 2,
       "version_minor": 0
      },
      "text/plain": [
       "Left to right pass (A1):   0%|          | 0/2129 [00:00<?, ?it/s]"
      ]
     },
     "metadata": {},
     "output_type": "display_data"
    },
    {
     "name": "stdout",
     "output_type": "stream",
     "text": [
      "Left loss (A1): 16.105601126215635\n",
      "Accuracy: 0.6635245084762573\n"
     ]
    },
    {
     "data": {
      "application/vnd.jupyter.widget-view+json": {
       "model_id": "5e7cb921443d44509b4cce900b624f27",
       "version_major": 2,
       "version_minor": 0
      },
      "text/plain": [
       "Left to right pass (A2):   0%|          | 0/2129 [00:00<?, ?it/s]"
      ]
     },
     "metadata": {},
     "output_type": "display_data"
    },
    {
     "name": "stdout",
     "output_type": "stream",
     "text": [
      "Left loss (A2): 9.294161843156646\n",
      "Accuracy: 0.7595219016075134\n"
     ]
    },
    {
     "data": {
      "application/vnd.jupyter.widget-view+json": {
       "model_id": "34edb08a5de34e8fb2230e0c34dc5e9e",
       "version_major": 2,
       "version_minor": 0
      },
      "text/plain": [
       "Right to left pass (A2):   0%|          | 0/2129 [00:00<?, ?it/s]"
      ]
     },
     "metadata": {},
     "output_type": "display_data"
    },
    {
     "name": "stdout",
     "output_type": "stream",
     "text": [
      "Right loss (A2): 6.642509705744195\n",
      "Accuracy: 0.7592576146125793\n"
     ]
    },
    {
     "data": {
      "application/vnd.jupyter.widget-view+json": {
       "model_id": "515a20d250b4445aa75d6fb487047f55",
       "version_major": 2,
       "version_minor": 0
      },
      "text/plain": [
       "Right to left pass (A1):   0%|          | 0/2129 [00:00<?, ?it/s]"
      ]
     },
     "metadata": {},
     "output_type": "display_data"
    },
    {
     "name": "stdout",
     "output_type": "stream",
     "text": [
      "Right loss (A1): 6.649811259163539\n",
      "Accuracy: 0.4265703558921814\n"
     ]
    }
   ],
   "source": [
    "with torch.inference_mode():\n",
    "    layer.tensor_network.accumulating_swipe(xinp_train, y_train, bf, batch_size=64, lr=1.0, convergence_criterion=convergence_criterion, orthonormalize=False, method='exact', eps=1e-5, verbose=True, num_swipes=10)"
   ]
  },
  {
   "cell_type": "code",
   "execution_count": 5,
   "id": "f471c72b-80d0-49cb-9570-823daaa4986b",
   "metadata": {},
   "outputs": [
    {
     "name": "stdout",
     "output_type": "stream",
     "text": [
      "Train Acc: 0.4265703558921814\n"
     ]
    }
   ],
   "source": [
    "# Calculate accuracy on train set\n",
    "y_pred_train = layer(xinp_train)\n",
    "accuracy_train = (((w*y_pred_train).sigmoid() > 0.5).long() == y_train).float().mean().item()\n",
    "print('Train Acc:', accuracy_train)"
   ]
  },
  {
   "cell_type": "code",
   "execution_count": 6,
   "id": "91684e85",
   "metadata": {},
   "outputs": [
    {
     "name": "stdout",
     "output_type": "stream",
     "text": [
      "Test Acc: 0.5607324838638306\n"
     ]
    }
   ],
   "source": [
    "# Calculate accuracy on test set\n",
    "y_pred_test = layer(xinp_test)\n",
    "accuracy_test = (((w*y_pred_test).sigmoid() > 0.5).long() == y_test).float().mean().item()\n",
    "print('Test Acc:', accuracy_test)"
   ]
  },
  {
   "cell_type": "code",
   "execution_count": 7,
   "id": "0114c338",
   "metadata": {},
   "outputs": [
    {
     "data": {
      "text/plain": [
       "[TensorNode(name=A1, shape=torch.Size([51, 2]), labels=['p', 'r2']),\n",
       " TensorNode(name=A2, shape=torch.Size([2, 51]), labels=['r2', 'p']),\n",
       " TensorNode(name=X1, shape=torch.Size([15346, 51]), labels=['s', 'p']),\n",
       " TensorNode(name=X2, shape=torch.Size([15346, 51]), labels=['s', 'p'])]"
      ]
     },
     "execution_count": 7,
     "metadata": {},
     "output_type": "execute_result"
    }
   ],
   "source": [
    "layer.tensor_network.nodes"
   ]
  },
  {
   "cell_type": "code",
   "execution_count": 3,
   "id": "45c6f510",
   "metadata": {},
   "outputs": [
    {
     "name": "stdout",
     "output_type": "stream",
     "text": [
      "XGBoost Test Accuracy: 0.9130282124122588\n"
     ]
    }
   ],
   "source": [
    "import xgboost as xgb\n",
    "from sklearn.metrics import accuracy_score, balanced_accuracy_score\n",
    "\n",
    "# Convert PyTorch tensors to NumPy arrays\n",
    "X_train_np = X_train.cpu().numpy()\n",
    "y_train_np = y_train.cpu().numpy()\n",
    "X_test_np = X_test.cpu().numpy()\n",
    "y_test_np = y_test.cpu().numpy()\n",
    "\n",
    "# Train an XGBoost classifier\n",
    "xgb_clf = xgb.XGBClassifier(eval_metric='logloss')\n",
    "xgb_clf.fit(X_train_np, y_train_np)\n",
    "\n",
    "# Predict on the test set\n",
    "y_pred_test_xgb = xgb_clf.predict(X_test_np)\n",
    "\n",
    "# Calculate accuracy\n",
    "accuracy_test_xgb = balanced_accuracy_score(y_test_np, y_pred_test_xgb)\n",
    "print('XGBoost Test Accuracy:', accuracy_test_xgb)"
   ]
  },
  {
   "cell_type": "code",
   "execution_count": null,
   "id": "2994e3d9",
   "metadata": {},
   "outputs": [],
   "source": []
  }
 ],
 "metadata": {
  "kernelspec": {
   "display_name": "s183995",
   "language": "python",
   "name": "python3"
  },
  "language_info": {
   "codemirror_mode": {
    "name": "ipython",
    "version": 3
   },
   "file_extension": ".py",
   "mimetype": "text/x-python",
   "name": "python",
   "nbconvert_exporter": "python",
   "pygments_lexer": "ipython3",
   "version": "3.12.5"
  }
 },
 "nbformat": 4,
 "nbformat_minor": 5
}
